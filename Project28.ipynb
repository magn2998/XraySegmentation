{
  "cells": [
    {
      "cell_type": "markdown",
      "metadata": {
        "colab_type": "text",
        "id": "view-in-github"
      },
      "source": [
        "<a href=\"https://colab.research.google.com/github/magn2998/XraySegmentation/blob/main/Project28.ipynb\" target=\"_parent\"><img src=\"https://colab.research.google.com/assets/colab-badge.svg\" alt=\"Open In Colab\"/></a>"
      ]
    },
    {
      "cell_type": "markdown",
      "metadata": {},
      "source": [
        "# **Project 28: Segmentation of X-ray images**\n",
        "\n",
        "In this notebook, we will briefly cover the scripts used throughout the project in order to get the results shown in the paper on this project. We will show examples of how the results were generated, how the plots were made, and so on. The notebook will include python functions defined in external files that are also within the same Git repository as this Jupyter file. The experiments will not be covered detailed, as they are covered in the related paper.\n",
        "\n",
        "## **Experiment 1**\n",
        "For the first experiment, we simply trained the model on the entire dataset, with varying sizes of images. \n"
      ]
    }
  ],
  "metadata": {
    "colab": {
      "authorship_tag": "ABX9TyPV47sFFJfP1BV/Q1Gr8ehv",
      "include_colab_link": true,
      "provenance": [],
      "toc_visible": true
    },
    "kernelspec": {
      "display_name": "Python 3",
      "name": "python3"
    },
    "language_info": {
      "name": "python"
    }
  },
  "nbformat": 4,
  "nbformat_minor": 0
}
